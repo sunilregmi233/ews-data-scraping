{
 "cells": [
  {
   "cell_type": "code",
   "execution_count": 1,
   "metadata": {},
   "outputs": [
    {
     "ename": "WebDriverException",
     "evalue": "Message: unknown error: no chrome binary at /usr/bin/brave-browser\nStacktrace:\n#0 0x560702358133 <unknown>\n#1 0x56070208c966 <unknown>\n#2 0x5607020b39e0 <unknown>\n#3 0x5607020b207b <unknown>\n#4 0x5607020f19ad <unknown>\n#5 0x5607020f118f <unknown>\n#6 0x5607020e89a3 <unknown>\n#7 0x5607020bd46a <unknown>\n#8 0x5607020be55e <unknown>\n#9 0x560702317cae <unknown>\n#10 0x56070231b8fe <unknown>\n#11 0x560702324f20 <unknown>\n#12 0x56070231c923 <unknown>\n#13 0x5607022efc0e <unknown>\n#14 0x56070233fb08 <unknown>\n#15 0x56070233fc97 <unknown>\n#16 0x560702350113 <unknown>\n#17 0x7fefebc8f1da <unknown>\n#18 0x7fefebd17f44 clone\n",
     "output_type": "error",
     "traceback": [
      "\u001b[0;31m---------------------------------------------------------------------------\u001b[0m",
      "\u001b[0;31mWebDriverException\u001b[0m                        Traceback (most recent call last)",
      "Cell \u001b[0;32mIn[1], line 16\u001b[0m\n\u001b[1;32m     11\u001b[0m \u001b[39m# options.add_argument('--headless')  # Run Brave in headless mode, no GUI\u001b[39;00m\n\u001b[1;32m     13\u001b[0m service \u001b[39m=\u001b[39m Service(chromedriver_path)\n\u001b[0;32m---> 16\u001b[0m driver \u001b[39m=\u001b[39m webdriver\u001b[39m.\u001b[39;49mChrome(service\u001b[39m=\u001b[39;49mservice, options\u001b[39m=\u001b[39;49moptions)\n\u001b[1;32m     18\u001b[0m driver\u001b[39m.\u001b[39mget(\u001b[39m'\u001b[39m\u001b[39mhttps://www.dhm.gov.np/hydrology/realtime-stream\u001b[39m\u001b[39m'\u001b[39m)\n\u001b[1;32m     20\u001b[0m html_content \u001b[39m=\u001b[39m driver\u001b[39m.\u001b[39mpage_source\n",
      "File \u001b[0;32m~/anaconda3/envs/dataScraping/lib/python3.11/site-packages/selenium/webdriver/chrome/webdriver.py:84\u001b[0m, in \u001b[0;36mWebDriver.__init__\u001b[0;34m(self, executable_path, port, options, service_args, desired_capabilities, service_log_path, chrome_options, service, keep_alive)\u001b[0m\n\u001b[1;32m     81\u001b[0m     service \u001b[39m=\u001b[39m Service(executable_path, port, service_args, service_log_path)\n\u001b[1;32m     82\u001b[0m service\u001b[39m.\u001b[39mpath \u001b[39m=\u001b[39m DriverFinder\u001b[39m.\u001b[39mget_path(service, options)\n\u001b[0;32m---> 84\u001b[0m \u001b[39msuper\u001b[39;49m()\u001b[39m.\u001b[39;49m\u001b[39m__init__\u001b[39;49m(\n\u001b[1;32m     85\u001b[0m     DesiredCapabilities\u001b[39m.\u001b[39;49mCHROME[\u001b[39m\"\u001b[39;49m\u001b[39mbrowserName\u001b[39;49m\u001b[39m\"\u001b[39;49m],\n\u001b[1;32m     86\u001b[0m     \u001b[39m\"\u001b[39;49m\u001b[39mgoog\u001b[39;49m\u001b[39m\"\u001b[39;49m,\n\u001b[1;32m     87\u001b[0m     port,\n\u001b[1;32m     88\u001b[0m     options,\n\u001b[1;32m     89\u001b[0m     service_args,\n\u001b[1;32m     90\u001b[0m     desired_capabilities,\n\u001b[1;32m     91\u001b[0m     service_log_path,\n\u001b[1;32m     92\u001b[0m     service,\n\u001b[1;32m     93\u001b[0m     keep_alive,\n\u001b[1;32m     94\u001b[0m )\n",
      "File \u001b[0;32m~/anaconda3/envs/dataScraping/lib/python3.11/site-packages/selenium/webdriver/chromium/webdriver.py:104\u001b[0m, in \u001b[0;36mChromiumDriver.__init__\u001b[0;34m(self, browser_name, vendor_prefix, port, options, service_args, desired_capabilities, service_log_path, service, keep_alive)\u001b[0m\n\u001b[1;32m    101\u001b[0m \u001b[39mself\u001b[39m\u001b[39m.\u001b[39mservice\u001b[39m.\u001b[39mstart()\n\u001b[1;32m    103\u001b[0m \u001b[39mtry\u001b[39;00m:\n\u001b[0;32m--> 104\u001b[0m     \u001b[39msuper\u001b[39;49m()\u001b[39m.\u001b[39;49m\u001b[39m__init__\u001b[39;49m(\n\u001b[1;32m    105\u001b[0m         command_executor\u001b[39m=\u001b[39;49mChromiumRemoteConnection(\n\u001b[1;32m    106\u001b[0m             remote_server_addr\u001b[39m=\u001b[39;49m\u001b[39mself\u001b[39;49m\u001b[39m.\u001b[39;49mservice\u001b[39m.\u001b[39;49mservice_url,\n\u001b[1;32m    107\u001b[0m             browser_name\u001b[39m=\u001b[39;49mbrowser_name,\n\u001b[1;32m    108\u001b[0m             vendor_prefix\u001b[39m=\u001b[39;49mvendor_prefix,\n\u001b[1;32m    109\u001b[0m             keep_alive\u001b[39m=\u001b[39;49mkeep_alive,\n\u001b[1;32m    110\u001b[0m             ignore_proxy\u001b[39m=\u001b[39;49m_ignore_proxy,\n\u001b[1;32m    111\u001b[0m         ),\n\u001b[1;32m    112\u001b[0m         options\u001b[39m=\u001b[39;49moptions,\n\u001b[1;32m    113\u001b[0m     )\n\u001b[1;32m    114\u001b[0m \u001b[39mexcept\u001b[39;00m \u001b[39mException\u001b[39;00m:\n\u001b[1;32m    115\u001b[0m     \u001b[39mself\u001b[39m\u001b[39m.\u001b[39mquit()\n",
      "File \u001b[0;32m~/anaconda3/envs/dataScraping/lib/python3.11/site-packages/selenium/webdriver/remote/webdriver.py:286\u001b[0m, in \u001b[0;36mWebDriver.__init__\u001b[0;34m(self, command_executor, desired_capabilities, browser_profile, proxy, keep_alive, file_detector, options)\u001b[0m\n\u001b[1;32m    284\u001b[0m \u001b[39mself\u001b[39m\u001b[39m.\u001b[39m_authenticator_id \u001b[39m=\u001b[39m \u001b[39mNone\u001b[39;00m\n\u001b[1;32m    285\u001b[0m \u001b[39mself\u001b[39m\u001b[39m.\u001b[39mstart_client()\n\u001b[0;32m--> 286\u001b[0m \u001b[39mself\u001b[39;49m\u001b[39m.\u001b[39;49mstart_session(capabilities, browser_profile)\n",
      "File \u001b[0;32m~/anaconda3/envs/dataScraping/lib/python3.11/site-packages/selenium/webdriver/remote/webdriver.py:378\u001b[0m, in \u001b[0;36mWebDriver.start_session\u001b[0;34m(self, capabilities, browser_profile)\u001b[0m\n\u001b[1;32m    376\u001b[0m w3c_caps \u001b[39m=\u001b[39m _make_w3c_caps(capabilities)\n\u001b[1;32m    377\u001b[0m parameters \u001b[39m=\u001b[39m {\u001b[39m\"\u001b[39m\u001b[39mcapabilities\u001b[39m\u001b[39m\"\u001b[39m: w3c_caps}\n\u001b[0;32m--> 378\u001b[0m response \u001b[39m=\u001b[39m \u001b[39mself\u001b[39;49m\u001b[39m.\u001b[39;49mexecute(Command\u001b[39m.\u001b[39;49mNEW_SESSION, parameters)\n\u001b[1;32m    379\u001b[0m \u001b[39mif\u001b[39;00m \u001b[39m\"\u001b[39m\u001b[39msessionId\u001b[39m\u001b[39m\"\u001b[39m \u001b[39mnot\u001b[39;00m \u001b[39min\u001b[39;00m response:\n\u001b[1;32m    380\u001b[0m     response \u001b[39m=\u001b[39m response[\u001b[39m\"\u001b[39m\u001b[39mvalue\u001b[39m\u001b[39m\"\u001b[39m]\n",
      "File \u001b[0;32m~/anaconda3/envs/dataScraping/lib/python3.11/site-packages/selenium/webdriver/remote/webdriver.py:440\u001b[0m, in \u001b[0;36mWebDriver.execute\u001b[0;34m(self, driver_command, params)\u001b[0m\n\u001b[1;32m    438\u001b[0m response \u001b[39m=\u001b[39m \u001b[39mself\u001b[39m\u001b[39m.\u001b[39mcommand_executor\u001b[39m.\u001b[39mexecute(driver_command, params)\n\u001b[1;32m    439\u001b[0m \u001b[39mif\u001b[39;00m response:\n\u001b[0;32m--> 440\u001b[0m     \u001b[39mself\u001b[39;49m\u001b[39m.\u001b[39;49merror_handler\u001b[39m.\u001b[39;49mcheck_response(response)\n\u001b[1;32m    441\u001b[0m     response[\u001b[39m\"\u001b[39m\u001b[39mvalue\u001b[39m\u001b[39m\"\u001b[39m] \u001b[39m=\u001b[39m \u001b[39mself\u001b[39m\u001b[39m.\u001b[39m_unwrap_value(response\u001b[39m.\u001b[39mget(\u001b[39m\"\u001b[39m\u001b[39mvalue\u001b[39m\u001b[39m\"\u001b[39m, \u001b[39mNone\u001b[39;00m))\n\u001b[1;32m    442\u001b[0m     \u001b[39mreturn\u001b[39;00m response\n",
      "File \u001b[0;32m~/anaconda3/envs/dataScraping/lib/python3.11/site-packages/selenium/webdriver/remote/errorhandler.py:245\u001b[0m, in \u001b[0;36mErrorHandler.check_response\u001b[0;34m(self, response)\u001b[0m\n\u001b[1;32m    243\u001b[0m         alert_text \u001b[39m=\u001b[39m value[\u001b[39m\"\u001b[39m\u001b[39malert\u001b[39m\u001b[39m\"\u001b[39m]\u001b[39m.\u001b[39mget(\u001b[39m\"\u001b[39m\u001b[39mtext\u001b[39m\u001b[39m\"\u001b[39m)\n\u001b[1;32m    244\u001b[0m     \u001b[39mraise\u001b[39;00m exception_class(message, screen, stacktrace, alert_text)  \u001b[39m# type: ignore[call-arg]  # mypy is not smart enough here\u001b[39;00m\n\u001b[0;32m--> 245\u001b[0m \u001b[39mraise\u001b[39;00m exception_class(message, screen, stacktrace)\n",
      "\u001b[0;31mWebDriverException\u001b[0m: Message: unknown error: no chrome binary at /usr/bin/brave-browser\nStacktrace:\n#0 0x560702358133 <unknown>\n#1 0x56070208c966 <unknown>\n#2 0x5607020b39e0 <unknown>\n#3 0x5607020b207b <unknown>\n#4 0x5607020f19ad <unknown>\n#5 0x5607020f118f <unknown>\n#6 0x5607020e89a3 <unknown>\n#7 0x5607020bd46a <unknown>\n#8 0x5607020be55e <unknown>\n#9 0x560702317cae <unknown>\n#10 0x56070231b8fe <unknown>\n#11 0x560702324f20 <unknown>\n#12 0x56070231c923 <unknown>\n#13 0x5607022efc0e <unknown>\n#14 0x56070233fb08 <unknown>\n#15 0x56070233fc97 <unknown>\n#16 0x560702350113 <unknown>\n#17 0x7fefebc8f1da <unknown>\n#18 0x7fefebd17f44 clone\n"
     ]
    }
   ],
   "source": [
    "from selenium import webdriver\n",
    "from selenium.webdriver.chrome.service import Service\n",
    "from selenium.webdriver.common.by import By\n",
    "from bs4 import BeautifulSoup\n",
    "\n",
    "brave_path = '/usr/bin/brave-browser'  # Path to the Brave browser executable\n",
    "chromedriver_path = 'chromedriver'  # Path to the ChromeDriver executable\n",
    "\n",
    "options = webdriver.ChromeOptions()\n",
    "options.binary_location = brave_path\n",
    "# options.add_argument('--headless')  # Run Brave in headless mode, no GUI\n",
    "\n",
    "service = Service(chromedriver_path)\n",
    "\n",
    "\n",
    "driver = webdriver.Chrome(service=service, options=options)\n",
    "\n",
    "driver.get('https://www.dhm.gov.np/hydrology/realtime-stream')\n",
    "\n",
    "html_content = driver.page_source\n",
    "# print(html_content)\n",
    "# text = driver.find_element(By.CLASS_NAME, \"table-responsive\")\n",
    "# text.click()\n",
    "# print(text)\n",
    "\n",
    "\n",
    "\n",
    "soup = BeautifulSoup(html_content, 'html.parser')\n",
    "\n",
    "table = soup.find('table', class_='table-bordered')\n",
    "\n",
    "print(table)\n",
    "\n",
    "driver.quit()"
   ]
  },
  {
   "cell_type": "code",
   "execution_count": null,
   "metadata": {},
   "outputs": [],
   "source": []
  }
 ],
 "metadata": {
  "kernelspec": {
   "display_name": "dataScraping",
   "language": "python",
   "name": "python3"
  },
  "language_info": {
   "codemirror_mode": {
    "name": "ipython",
    "version": 3
   },
   "file_extension": ".py",
   "mimetype": "text/x-python",
   "name": "python",
   "nbconvert_exporter": "python",
   "pygments_lexer": "ipython3",
   "version": "3.11.3"
  },
  "orig_nbformat": 4
 },
 "nbformat": 4,
 "nbformat_minor": 2
}
